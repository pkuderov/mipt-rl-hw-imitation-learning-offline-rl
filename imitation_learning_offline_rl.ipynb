{
  "nbformat": 4,
  "nbformat_minor": 0,
  "metadata": {
    "colab": {
      "provenance": [],
      "collapsed_sections": [
        "8pHtTfZKhfQJ",
        "330LSqoAh7BK",
        "orFDQCVch9Hn",
        "BPCYwEGrMbvd"
      ],
      "gpuType": "T4"
    },
    "kernelspec": {
      "name": "python3",
      "display_name": "Python 3"
    },
    "language_info": {
      "name": "python"
    },
    "accelerator": "GPU"
  },
  "cells": [
    {
      "cell_type": "markdown",
      "source": [
        "#  Imitation Learning & Offline RL\n",
        "*NB: Обучение на основе демонстраций (лекция 11).*\n",
        "\n",
        "Данное домашнее задание является продолжением семинара по Imitation Learning и Offline RL. Здесь мы будем переиспользовать наработки из семинара, а также приведенные в нем датасеты (*NB: далее в тетрадке все необходимое приведено!*).\n",
        "\n",
        "---\n",
        "\n",
        "На семинаре обсуждался метод Behavior Cloning (BC), который представляет собой подход к обучению моделей на основе пар “состояние-действие”, полученных от эксперта.\n",
        "\n",
        "Главное преимущество этого метода заключается в его простоте реализации. Однако у него есть два существенных недостатка:\n",
        "\n",
        "1. Накопление ошибок в ходе одного эпизода\n",
        "2. Сдвиг распределения состояний между обучающей и тестовой выборками — в результате обучения BC агент может предпочитать состояния, которые слабо представлены в экспертном датасете, следовательно точность экспертного решения может быть недостаточной.\n",
        "\n",
        "**Датасет** $\\mathcal{D} = \\{ (s, a, r, s')\\}$ собран с помощью неизвестной **экспертной стратегии** $\\pi_e(a | s)$. $s$ - состояние, $r$ - вознаграждение, $a$ - действие, $s'$ - следующее состояние. $s \\sim d^\\pi$ -- множество состояний в памяти.\n",
        "\n",
        "Цель: $\\max_\\pi \\sum\\limits_{t=0}^T \\mathbb{E}_{s_t \\sim d^\\pi, a_t \\sim \\pi(a | s)} \\left[\\gamma^t r(s_t, a_t)\\right]$\n",
        "\n",
        "## DAgger (Dataset Aggregation)\n",
        "\n",
        "[Статья](https://arxiv.org/abs/1011.0686).\n",
        "\n",
        "Задача: см. соотв. секцию в конце.\n",
        "\n",
        "Идея метода: собирать дополнительные экспертные данные во время обучения.\n",
        "\n",
        "Обозначения: $\\pi_a$ -- стратегия обучаемого агента, $\\pi_e$ -- стратегия эксперта, $\\mathcal{D}_e$ -- данные с эксперта, $M$ -- количество дополнительных данных.\n",
        "\n",
        "Алгоритм:\n",
        "1. Собрать новые данные $ \\{ s_i \\}_{i=0}^M$ с помощью **текущей** стратегии $\\pi_a$. *NB: в полученных траекториях нас интересуют только состояния.*\n",
        "2. Для собранного набора состояний опросить эксперта $\\pi_e$, какие действия выбрал бы он. В результате получен новый экспертный датасет $\\mathcal{D}_a = \\{(s_i, a_i)\\}_{i=0}^M$.\n",
        "3. Провести итерацию обучения агента $\\pi_a$ на расширенном наборе данных $\\mathcal{D} = \\mathcal{D}_e \\cup \\mathcal{D}_a$.\n",
        "4. Повторить.\n",
        "\n",
        "Таким образом, метод BC (behavior cloning) надо дополнить только итеративным способом обновления датасета.\n",
        "\n",
        "Основные особенности метода:\n",
        "- Помогает избежать накопления ошибок, возникающих при чистом копировании поведения (behavior cloning).\n",
        "- Охватывает те состояния, в которые агент действительно попадает во время выполнения задачи, что улучшает обобщающую способность модели.\n",
        "- Сводит задачу imitation learning к no-regret online learning. При разумных условиях DAgger гарантирует, что стратегия агента будет работать почти так же хорошо, как стратегия эксперта.\n",
        "\n",
        "Основные особенности/требования метода:\n",
        "- есть доступ к среде;\n",
        "- есть доступ к эксперту.\n",
        "\n",
        "### Код\n",
        "Что взять за основу:\n",
        "- `BCAgent`,\n",
        "- в качестве эксперта модель `SACAgent`, веса модели `expert.pt`.\n",
        "\n",
        "Что потребуется изменить:\n",
        "- метод `train`;\n",
        "- `ReplayBuffer`.\n",
        "\n",
        "Параметры:\n",
        "- $M$ -- количество данных за один update.\n",
        "- $k_e : k_a$ -- пропорция, сколько в батче экспертных данных к данным с агента (обычно $1 : 1$).\n",
        "\n",
        "Что можно попробовать:\n",
        "- фильтровать новые траектории, с которых будут взяты данные в $\\mathcal{D}_a$.\n",
        "- изменять пропорцию $k_e : k_a$. В начале в основном обучаться на экспертных данных.\n",
        "- для сбора датасета использовать микс распределений текущей и экспертной стратегий с помощью линейной интерполяции: $\\pi = \\alpha \\pi_e + (1-\\alpha)\\pi_a$. Начинать обучение с полностью экспертной стратегии и постепенно \"переносить вес\" на обученную стратегию, т.е. стартовать с $\\alpha = 1.0$ и в процессе обучения снижать $\\alpha \\rightarrow 0$.\n",
        "\n",
        "## SQIL (Soft Q Imitation Learning)\n",
        "\n",
        "[Статья](https://arxiv.org/abs/1905.11108).\n",
        "\n",
        "Задача: см. соотв. секцию в конце.\n",
        "\n",
        "Идея метода: SQIL преобразует задачу имитационного обучения в задачу обучения с подкреплением за счет введения специальной функции вознаграждения. Вместо того чтобы строить специальную функцию потерь для имитации (как в behavior cloning или DAgger), в SQIL:\n",
        "- Переходам из экспертных демонстраций назначается фиксированная положительная награда (например, +1).\n",
        "- Переходам агента, полученным в ходе его собственной активности, назначается значительно меньшая или нулевая награда.\n",
        "\n",
        "Агент обучается с помощью обычного off-policy алгоритма обучения с подкреплением (DQN, SAC и тп), используя модифицированную функцию награды.\n",
        "В результате агент стремится повторять поведение эксперта, потому что именно оно приводит к получению большей награды.\n",
        "\n",
        "Обозначения: $\\pi_a$ -- стратегия обучаемого агента, $\\pi_e$ -- стратегия эксперта, $\\mathcal{D}_e$ -- данные с эксперта.\n",
        "\n",
        "Алгоритм:\n",
        "1. Переходам из экспертного датасета $\\mathcal{D}_e = \\{(s_i, a_i, s'_i)\\}_{i=0}^N$ назначается вознаграждение $r = 1$.\n",
        "2. Инициализируется ReplayBuffer: $\\mathcal{D} = \\mathcal{D}_e$.\n",
        "3. Проводится раунд сбора новых траекторий $\\mathcal{D}_a = \\{(s_i, a_i, s'_i)\\}_{i=0}^M$ на основе **текущей** стратегии $\\pi_a$. Собранным траекториям назначается вознаграждение $r = 0$.\n",
        "3. Собранные данные добавляются в ReplayBuffer: $\\mathcal{D} = \\mathcal{D} \\cup \\mathcal{D}_a$.\n",
        "4. Проводится раунд обучения $\\pi_a$ на ReplayBuffer.\n",
        "5. Повторить с 3.  \n",
        "\n",
        "Таким образом, для метода SAC (soft actor-critic) надо изменить ReplayBuffer.\n",
        "\n",
        "Основные особенности метода:\n",
        "- Специальная функция награды;\n",
        "- Можно использовать любой стандартный off-policy алгоритм RL без модификаций;\n",
        "- Неявная имитация: агента не заставляют напрямую копировать эксперта — он сам стремится к стратегии, приносящей наибольшую отдачу.\n",
        "- Используется преимущество off-policy RL над имитационным обученим: агент, потенциально, может оптимизировать поведение эксперта.\n",
        "\n",
        "### Код\n",
        "Что взять за основу:\n",
        "- `SACAgent`;\n",
        "\n",
        "Что потребуется изменить:\n",
        "- `ReplayBuffer`;\n",
        "- метод `train`.\n",
        "\n",
        "Параметры:\n",
        "- $k_e : k_a$ -- пропорция, сколько в батче экспертных данных к данным с агента (обычно $1 : 1$). *NB: для этого потребуется хранить данные отдельно друг от друга.*\n",
        "\n",
        "# Задание\n",
        "\n",
        "1. Реализовать методы DAgger и SQIL.\n",
        "2. Сравнить три метода BC, DAgger и SQIL на трех заданиях в среде `PointMaze` (конфигурацию заданий см. ниже).\n",
        "3. [Optional] Изменить ReplayBuffer:\n",
        " - формировать батч таким образом, чтобы за одну эпоху последовательно и без повторений использовался каждый элемент датасета (1 эпоха = 1 раз пройти по всему датасету). Выводить число эпох.\n",
        "3. В отчете показать несколько графиков:\n",
        " - во время обучения -- график SR (процент успешно завершенных эпизодов при evaluate);\n",
        " - после обучения -- траектория движения обученного агента, SR при тестировании агента `n` раз на задании.\n",
        "4. В отчёте должны быть ссылки на проекты (public доступ) в WandB с логированием метрик экспериментов. По названию Run'а должно быть понятно, к какому эксперименту он относится, например: `task1_BC`, `task2_SQIL` и т.д.. Также в отчёте должен быть параграф с анализом результатов.\n",
        "\n"
      ],
      "metadata": {
        "id": "dWKc2DoN7gks"
      }
    },
    {
      "cell_type": "markdown",
      "source": [
        "# Код"
      ],
      "metadata": {
        "id": "949GTIeLdGBe"
      }
    },
    {
      "cell_type": "markdown",
      "source": [
        "## Установка зависимостей для colab"
      ],
      "metadata": {
        "id": "n6mJMFGY7htM"
      }
    },
    {
      "cell_type": "code",
      "source": [
        "try:\n",
        "    import google.colab\n",
        "    COLAB = True\n",
        "    if COLAB:\n",
        "        !pip -q install piglet\n",
        "        !pip -q install imageio_ffmpeg\n",
        "        !pip -q install moviepy==1.0.3\n",
        "        !pip install gymnasium[mujoco]\n",
        "        !pip install gymnasium_robotics\n",
        "        !pip install h5py\n",
        "except:\n",
        "    COLAB = False\n",
        "\n",
        "NEED_DRIVE = True\n",
        "HAS_DRIVE = False"
      ],
      "metadata": {
        "colab": {
          "base_uri": "https://localhost:8080/"
        },
        "id": "ZqRL4Hnwqoak",
        "outputId": "f1250a1c-f423-4bc3-ea20-79e70155a070"
      },
      "execution_count": null,
      "outputs": [
        {
          "output_type": "stream",
          "name": "stdout",
          "text": [
            "\u001b[?25l   \u001b[90m━━━━━━━━━━━━━━━━━━━━━━━━━━━━━━━━━━━━━━━━\u001b[0m \u001b[32m0.0/67.5 kB\u001b[0m \u001b[31m?\u001b[0m eta \u001b[36m-:--:--\u001b[0m\r\u001b[2K   \u001b[90m━━━━━━━━━━━━━━━━━━━━━━━━━━━━━━━━━━━━━━━━\u001b[0m \u001b[32m67.5/67.5 kB\u001b[0m \u001b[31m2.5 MB/s\u001b[0m eta \u001b[36m0:00:00\u001b[0m\n",
            "\u001b[?25hRequirement already satisfied: gymnasium[mujoco] in /usr/local/lib/python3.11/dist-packages (1.1.1)\n",
            "Requirement already satisfied: numpy>=1.21.0 in /usr/local/lib/python3.11/dist-packages (from gymnasium[mujoco]) (2.0.2)\n",
            "Requirement already satisfied: cloudpickle>=1.2.0 in /usr/local/lib/python3.11/dist-packages (from gymnasium[mujoco]) (3.1.1)\n",
            "Requirement already satisfied: typing-extensions>=4.3.0 in /usr/local/lib/python3.11/dist-packages (from gymnasium[mujoco]) (4.13.1)\n",
            "Requirement already satisfied: farama-notifications>=0.0.1 in /usr/local/lib/python3.11/dist-packages (from gymnasium[mujoco]) (0.0.4)\n",
            "Collecting mujoco>=2.1.5 (from gymnasium[mujoco])\n",
            "  Downloading mujoco-3.3.0-cp311-cp311-manylinux_2_17_x86_64.manylinux2014_x86_64.whl.metadata (44 kB)\n",
            "\u001b[2K     \u001b[90m━━━━━━━━━━━━━━━━━━━━━━━━━━━━━━━━━━━━━━━━\u001b[0m \u001b[32m44.4/44.4 kB\u001b[0m \u001b[31m1.4 MB/s\u001b[0m eta \u001b[36m0:00:00\u001b[0m\n",
            "\u001b[?25hRequirement already satisfied: imageio>=2.14.1 in /usr/local/lib/python3.11/dist-packages (from gymnasium[mujoco]) (2.37.0)\n",
            "Requirement already satisfied: pillow>=8.3.2 in /usr/local/lib/python3.11/dist-packages (from imageio>=2.14.1->gymnasium[mujoco]) (11.1.0)\n",
            "Requirement already satisfied: absl-py in /usr/local/lib/python3.11/dist-packages (from mujoco>=2.1.5->gymnasium[mujoco]) (1.4.0)\n",
            "Requirement already satisfied: etils[epath] in /usr/local/lib/python3.11/dist-packages (from mujoco>=2.1.5->gymnasium[mujoco]) (1.12.2)\n",
            "Collecting glfw (from mujoco>=2.1.5->gymnasium[mujoco])\n",
            "  Downloading glfw-2.8.0-py2.py27.py3.py30.py31.py32.py33.py34.py35.py36.py37.py38.p39.p310.p311.p312.p313-none-manylinux_2_28_x86_64.whl.metadata (5.4 kB)\n",
            "Requirement already satisfied: pyopengl in /usr/local/lib/python3.11/dist-packages (from mujoco>=2.1.5->gymnasium[mujoco]) (3.1.9)\n",
            "Requirement already satisfied: fsspec in /usr/local/lib/python3.11/dist-packages (from etils[epath]->mujoco>=2.1.5->gymnasium[mujoco]) (2025.3.2)\n",
            "Requirement already satisfied: importlib_resources in /usr/local/lib/python3.11/dist-packages (from etils[epath]->mujoco>=2.1.5->gymnasium[mujoco]) (6.5.2)\n",
            "Requirement already satisfied: zipp in /usr/local/lib/python3.11/dist-packages (from etils[epath]->mujoco>=2.1.5->gymnasium[mujoco]) (3.21.0)\n",
            "Downloading mujoco-3.3.0-cp311-cp311-manylinux_2_17_x86_64.manylinux2014_x86_64.whl (6.6 MB)\n",
            "\u001b[2K   \u001b[90m━━━━━━━━━━━━━━━━━━━━━━━━━━━━━━━━━━━━━━━━\u001b[0m \u001b[32m6.6/6.6 MB\u001b[0m \u001b[31m58.7 MB/s\u001b[0m eta \u001b[36m0:00:00\u001b[0m\n",
            "\u001b[?25hDownloading glfw-2.8.0-py2.py27.py3.py30.py31.py32.py33.py34.py35.py36.py37.py38.p39.p310.p311.p312.p313-none-manylinux_2_28_x86_64.whl (243 kB)\n",
            "\u001b[2K   \u001b[90m━━━━━━━━━━━━━━━━━━━━━━━━━━━━━━━━━━━━━━━━\u001b[0m \u001b[32m243.4/243.4 kB\u001b[0m \u001b[31m21.5 MB/s\u001b[0m eta \u001b[36m0:00:00\u001b[0m\n",
            "\u001b[?25hInstalling collected packages: glfw, mujoco\n",
            "Successfully installed glfw-2.8.0 mujoco-3.3.0\n",
            "Collecting gymnasium_robotics\n",
            "  Downloading gymnasium_robotics-1.3.1-py3-none-any.whl.metadata (8.7 kB)\n",
            "Collecting mujoco<3.2.0,>=2.2.0 (from gymnasium_robotics)\n",
            "  Downloading mujoco-3.1.6-cp311-cp311-manylinux_2_17_x86_64.manylinux2014_x86_64.whl.metadata (44 kB)\n",
            "\u001b[2K     \u001b[90m━━━━━━━━━━━━━━━━━━━━━━━━━━━━━━━━━━━━━━━━\u001b[0m \u001b[32m44.3/44.3 kB\u001b[0m \u001b[31m3.3 MB/s\u001b[0m eta \u001b[36m0:00:00\u001b[0m\n",
            "\u001b[?25hRequirement already satisfied: numpy>=1.21.0 in /usr/local/lib/python3.11/dist-packages (from gymnasium_robotics) (2.0.2)\n",
            "Requirement already satisfied: gymnasium>=1.0.0 in /usr/local/lib/python3.11/dist-packages (from gymnasium_robotics) (1.1.1)\n",
            "Collecting PettingZoo>=1.23.0 (from gymnasium_robotics)\n",
            "  Downloading pettingzoo-1.24.3-py3-none-any.whl.metadata (8.5 kB)\n",
            "Requirement already satisfied: Jinja2>=3.0.3 in /usr/local/lib/python3.11/dist-packages (from gymnasium_robotics) (3.1.6)\n",
            "Requirement already satisfied: imageio in /usr/local/lib/python3.11/dist-packages (from gymnasium_robotics) (2.37.0)\n",
            "Requirement already satisfied: cloudpickle>=1.2.0 in /usr/local/lib/python3.11/dist-packages (from gymnasium>=1.0.0->gymnasium_robotics) (3.1.1)\n",
            "Requirement already satisfied: typing-extensions>=4.3.0 in /usr/local/lib/python3.11/dist-packages (from gymnasium>=1.0.0->gymnasium_robotics) (4.13.1)\n",
            "Requirement already satisfied: farama-notifications>=0.0.1 in /usr/local/lib/python3.11/dist-packages (from gymnasium>=1.0.0->gymnasium_robotics) (0.0.4)\n",
            "Requirement already satisfied: MarkupSafe>=2.0 in /usr/local/lib/python3.11/dist-packages (from Jinja2>=3.0.3->gymnasium_robotics) (3.0.2)\n",
            "Requirement already satisfied: absl-py in /usr/local/lib/python3.11/dist-packages (from mujoco<3.2.0,>=2.2.0->gymnasium_robotics) (1.4.0)\n",
            "Requirement already satisfied: etils[epath] in /usr/local/lib/python3.11/dist-packages (from mujoco<3.2.0,>=2.2.0->gymnasium_robotics) (1.12.2)\n",
            "Requirement already satisfied: glfw in /usr/local/lib/python3.11/dist-packages (from mujoco<3.2.0,>=2.2.0->gymnasium_robotics) (2.8.0)\n",
            "Requirement already satisfied: pyopengl in /usr/local/lib/python3.11/dist-packages (from mujoco<3.2.0,>=2.2.0->gymnasium_robotics) (3.1.9)\n",
            "Requirement already satisfied: pillow>=8.3.2 in /usr/local/lib/python3.11/dist-packages (from imageio->gymnasium_robotics) (11.1.0)\n",
            "Requirement already satisfied: fsspec in /usr/local/lib/python3.11/dist-packages (from etils[epath]->mujoco<3.2.0,>=2.2.0->gymnasium_robotics) (2025.3.2)\n",
            "Requirement already satisfied: importlib_resources in /usr/local/lib/python3.11/dist-packages (from etils[epath]->mujoco<3.2.0,>=2.2.0->gymnasium_robotics) (6.5.2)\n",
            "Requirement already satisfied: zipp in /usr/local/lib/python3.11/dist-packages (from etils[epath]->mujoco<3.2.0,>=2.2.0->gymnasium_robotics) (3.21.0)\n",
            "Downloading gymnasium_robotics-1.3.1-py3-none-any.whl (26.1 MB)\n",
            "\u001b[2K   \u001b[90m━━━━━━━━━━━━━━━━━━━━━━━━━━━━━━━━━━━━━━━━\u001b[0m \u001b[32m26.1/26.1 MB\u001b[0m \u001b[31m74.1 MB/s\u001b[0m eta \u001b[36m0:00:00\u001b[0m\n",
            "\u001b[?25hDownloading mujoco-3.1.6-cp311-cp311-manylinux_2_17_x86_64.manylinux2014_x86_64.whl (5.5 MB)\n",
            "\u001b[2K   \u001b[90m━━━━━━━━━━━━━━━━━━━━━━━━━━━━━━━━━━━━━━━━\u001b[0m \u001b[32m5.5/5.5 MB\u001b[0m \u001b[31m108.8 MB/s\u001b[0m eta \u001b[36m0:00:00\u001b[0m\n",
            "\u001b[?25hDownloading pettingzoo-1.24.3-py3-none-any.whl (847 kB)\n",
            "\u001b[2K   \u001b[90m━━━━━━━━━━━━━━━━━━━━━━━━━━━━━━━━━━━━━━━━\u001b[0m \u001b[32m847.8/847.8 kB\u001b[0m \u001b[31m48.2 MB/s\u001b[0m eta \u001b[36m0:00:00\u001b[0m\n",
            "\u001b[?25hInstalling collected packages: PettingZoo, mujoco, gymnasium_robotics\n",
            "  Attempting uninstall: mujoco\n",
            "    Found existing installation: mujoco 3.3.0\n",
            "    Uninstalling mujoco-3.3.0:\n",
            "      Successfully uninstalled mujoco-3.3.0\n",
            "Successfully installed PettingZoo-1.24.3 gymnasium_robotics-1.3.1 mujoco-3.1.6\n",
            "Requirement already satisfied: h5py in /usr/local/lib/python3.11/dist-packages (3.13.0)\n",
            "Requirement already satisfied: numpy>=1.19.3 in /usr/local/lib/python3.11/dist-packages (from h5py) (2.0.2)\n"
          ]
        }
      ]
    },
    {
      "cell_type": "code",
      "source": [
        "if NEED_DRIVE and COLAB:\n",
        "    from google.colab import drive\n",
        "    drive.mount('/content/drive')\n",
        "    HAS_DRIVE = True\n",
        "\n",
        "https://drive.google.com/file/d/1ODvl6a4N7Jw8Q-qF-zof8nLY1gMk1x3i/view?usp=drive_link"
      ],
      "metadata": {
        "id": "NQ1bcvxkrDGk"
      },
      "execution_count": null,
      "outputs": []
    },
    {
      "cell_type": "code",
      "source": [
        "!wget -O \"data_umaze_bad.hdf5\" --no-check-certificate \"https://drive.usercontent.google.com/download?id=1t_aAlPjniYUYL63CryEmhEJUyWkQBdCB&export=download&authuser=0\"\n",
        "!wget -O \"data_umaze_good.hdf5\" --no-check-certificate \"https://drive.usercontent.google.com/download?id=1hw5pbbyPUcffmVKM1FMdaDR93nEuqqsu&export=download&authuser=0\"\n",
        "!wget -O \"data_umaze_corner.hdf5\" --no-check-certificate \"https://drive.usercontent.google.com/download?id=1NqM7Xa6KKX6FCJNFaaxEKb2moRlU4Dg8&export=download&authuser=0\"\n",
        "!wget -O \"data_corner.hdf5\" --no-check-certificate \"https://drive.usercontent.google.com/download?id=1ODvl6a4N7Jw8Q-qF-zof8nLY1gMk1x3i&export=download&authuser=0\"\n",
        "!wget -O \"data_line.hdf5\" --no-check-certificate \"https://drive.usercontent.google.com/download?id=1FdGp66Ef8k2fkSdTghkoPti_NoGcOjSD&export=download&authuser=0\"\n",
        "!wget -O \"expert_Umaze.pt\" --no-check-certificate \"https://drive.usercontent.google.com/download?id=1daCX0dxBmAPtBAXAvk6s_BeSkndIBHLP&export=download&authuser=0\"\n",
        "!wget -O \"expert_medium.pt\" --no-check-certificate \"https://drive.usercontent.google.com/download?id=14g2motZ8KA_iUDcP_TSFjZFrZ4Zpe-6-&export=download&authuser=0\""
      ],
      "metadata": {
        "id": "ihqNNz4W7fhZ",
        "colab": {
          "base_uri": "https://localhost:8080/"
        },
        "outputId": "e17ce416-b4f7-4386-a32f-61574829d179"
      },
      "execution_count": null,
      "outputs": [
        {
          "output_type": "stream",
          "name": "stdout",
          "text": [
            "--2025-04-07 17:15:37--  https://drive.usercontent.google.com/download?id=1t_aAlPjniYUYL63CryEmhEJUyWkQBdCB&export=download&authuser=0\n",
            "Resolving drive.usercontent.google.com (drive.usercontent.google.com)... 142.251.2.132, 2607:f8b0:4023:c0d::84\n",
            "Connecting to drive.usercontent.google.com (drive.usercontent.google.com)|142.251.2.132|:443... connected.\n",
            "HTTP request sent, awaiting response... 200 OK\n",
            "Length: 56506808 (54M) [application/octet-stream]\n",
            "Saving to: ‘data_umaze_bad.hdf5’\n",
            "\n",
            "data_umaze_bad.hdf5 100%[===================>]  53.89M  38.1MB/s    in 1.4s    \n",
            "\n",
            "2025-04-07 17:15:43 (38.1 MB/s) - ‘data_umaze_bad.hdf5’ saved [56506808/56506808]\n",
            "\n",
            "--2025-04-07 17:15:43--  https://drive.usercontent.google.com/download?id=1hw5pbbyPUcffmVKM1FMdaDR93nEuqqsu&export=download&authuser=0\n",
            "Resolving drive.usercontent.google.com (drive.usercontent.google.com)... 142.251.2.132, 2607:f8b0:4023:c0d::84\n",
            "Connecting to drive.usercontent.google.com (drive.usercontent.google.com)|142.251.2.132|:443... connected.\n",
            "HTTP request sent, awaiting response... 200 OK\n",
            "Length: 56504774 (54M) [application/octet-stream]\n",
            "Saving to: ‘data_umaze_good.hdf5’\n",
            "\n",
            "data_umaze_good.hdf 100%[===================>]  53.89M  52.2MB/s    in 1.0s    \n",
            "\n",
            "2025-04-07 17:15:49 (52.2 MB/s) - ‘data_umaze_good.hdf5’ saved [56504774/56504774]\n",
            "\n",
            "--2025-04-07 17:15:50--  https://drive.usercontent.google.com/download?id=1NqM7Xa6KKX6FCJNFaaxEKb2moRlU4Dg8&export=download&authuser=0\n",
            "Resolving drive.usercontent.google.com (drive.usercontent.google.com)... 142.251.2.132, 2607:f8b0:4023:c0d::84\n",
            "Connecting to drive.usercontent.google.com (drive.usercontent.google.com)|142.251.2.132|:443... connected.\n",
            "HTTP request sent, awaiting response... 200 OK\n",
            "Length: 55293640 (53M) [application/octet-stream]\n",
            "Saving to: ‘data_umaze_corner.hdf5’\n",
            "\n",
            "data_umaze_corner.h 100%[===================>]  52.73M  30.6MB/s    in 1.7s    \n",
            "\n",
            "2025-04-07 17:15:56 (30.6 MB/s) - ‘data_umaze_corner.hdf5’ saved [55293640/55293640]\n",
            "\n",
            "--2025-04-07 17:15:56--  https://drive.usercontent.google.com/download?id=1ODvl6a4N7Jw8Q-qF-zof8nLY1gMk1x3i&export=download&authuser=0\n",
            "Resolving drive.usercontent.google.com (drive.usercontent.google.com)... 142.251.2.132, 2607:f8b0:4023:c0d::84\n",
            "Connecting to drive.usercontent.google.com (drive.usercontent.google.com)|142.251.2.132|:443... connected.\n",
            "HTTP request sent, awaiting response... 200 OK\n",
            "Length: 55313980 (53M) [application/octet-stream]\n",
            "Saving to: ‘data_corner.hdf5’\n",
            "\n",
            "data_corner.hdf5    100%[===================>]  52.75M  36.7MB/s    in 1.4s    \n",
            "\n",
            "2025-04-07 17:16:02 (36.7 MB/s) - ‘data_corner.hdf5’ saved [55313980/55313980]\n",
            "\n",
            "--2025-04-07 17:16:02--  https://drive.usercontent.google.com/download?id=1FdGp66Ef8k2fkSdTghkoPti_NoGcOjSD&export=download&authuser=0\n",
            "Resolving drive.usercontent.google.com (drive.usercontent.google.com)... 142.251.2.132, 2607:f8b0:4023:c0d::84\n",
            "Connecting to drive.usercontent.google.com (drive.usercontent.google.com)|142.251.2.132|:443... connected.\n",
            "HTTP request sent, awaiting response... 200 OK\n",
            "Length: 63060469 (60M) [application/octet-stream]\n",
            "Saving to: ‘data_line.hdf5’\n",
            "\n",
            "data_line.hdf5      100%[===================>]  60.14M  35.5MB/s    in 1.7s    \n",
            "\n",
            "2025-04-07 17:16:09 (35.5 MB/s) - ‘data_line.hdf5’ saved [63060469/63060469]\n",
            "\n",
            "--2025-04-07 17:16:09--  https://drive.usercontent.google.com/download?id=1daCX0dxBmAPtBAXAvk6s_BeSkndIBHLP&export=download&authuser=0\n",
            "Resolving drive.usercontent.google.com (drive.usercontent.google.com)... 142.251.2.132, 2607:f8b0:4023:c0d::84\n",
            "Connecting to drive.usercontent.google.com (drive.usercontent.google.com)|142.251.2.132|:443... connected.\n",
            "HTTP request sent, awaiting response... 200 OK\n",
            "Length: 3041170 (2.9M) [application/octet-stream]\n",
            "Saving to: ‘expert_Umaze.pt’\n",
            "\n",
            "expert_Umaze.pt     100%[===================>]   2.90M  16.3MB/s    in 0.2s    \n",
            "\n",
            "2025-04-07 17:16:12 (16.3 MB/s) - ‘expert_Umaze.pt’ saved [3041170/3041170]\n",
            "\n",
            "--2025-04-07 17:16:12--  https://drive.usercontent.google.com/download?id=14g2motZ8KA_iUDcP_TSFjZFrZ4Zpe-6-&export=download&authuser=0\n",
            "Resolving drive.usercontent.google.com (drive.usercontent.google.com)... 142.251.2.132, 2607:f8b0:4023:c0d::84\n",
            "Connecting to drive.usercontent.google.com (drive.usercontent.google.com)|142.251.2.132|:443... connected.\n",
            "HTTP request sent, awaiting response... 200 OK\n",
            "Length: 3041068 (2.9M) [application/octet-stream]\n",
            "Saving to: ‘expert_medium.pt’\n",
            "\n",
            "expert_medium.pt    100%[===================>]   2.90M  --.-KB/s    in 0.1s    \n",
            "\n",
            "2025-04-07 17:16:16 (21.6 MB/s) - ‘expert_medium.pt’ saved [3041068/3041068]\n",
            "\n"
          ]
        }
      ]
    },
    {
      "cell_type": "code",
      "source": [
        "from typing import Any, Callable, Dict, List, Optional, Tuple, Union\n",
        "\n",
        "from dataclasses import dataclass\n",
        "\n",
        "import os\n",
        "import random\n",
        "import time\n",
        "import h5py\n",
        "\n",
        "import numpy as np\n",
        "import gymnasium as gym\n",
        "import torch\n",
        "from torch.utils.tensorboard import SummaryWriter\n",
        "import torch.nn as nn\n",
        "import torch.nn.functional as F\n",
        "import torch.optim as optim\n",
        "from torch.optim.lr_scheduler import CosineAnnealingLR\n",
        "from IPython.display import Image\n",
        "\n",
        "TensorBatch = List[torch.Tensor]\n",
        "\n",
        "try:\n",
        "    import wandb\n",
        "    WANDB_IS_AVAILABLE = True\n",
        "except ImportError:\n",
        "    WANDB_IS_AVAILABLE = False\n",
        "\n",
        "# os.environ[\"WANDB_API_KEY\"] = \"your wandb-api key\"\n",
        "os.environ[\"WANDB_API_KEY\"] = \"2493ada22b975bf0409f8240f642b7711e61be40\""
      ],
      "metadata": {
        "id": "mxWDcBNYd6Jq"
      },
      "execution_count": null,
      "outputs": []
    },
    {
      "cell_type": "markdown",
      "source": [
        "## Среда\n",
        "\n"
      ],
      "metadata": {
        "id": "ItzDcPCQgb7r"
      }
    },
    {
      "cell_type": "markdown",
      "source": [
        "PointMaze\n",
        "\n",
        "Среда для экспериментов: [**PointMaze**](https://robotics.farama.org/envs/maze/point_maze/).\n",
        "\n",
        "Задача поиска пути в лабиринте:\n",
        "- расположение препятствия фиксированное\n",
        "- начальная точка и точка цели задается в заранее определенной области\n",
        "- агент достиг своей цели, если расстояние между ним и целью < 0.5\n",
        "- конец эпизода: агент достиг своей цели или превышено число допустимых шагов в среде\n",
        "- награда: 1, если агент достиг цели\n",
        "- наблюдения: координаты агента, скорость агента, координаты цели $$obs = [x_a, y_a, v_x, v_y, x_g, y_g]$$\n",
        "- действие: линейная сила $$action = [F_x, F_y]$$\n",
        "- метрика: $SR = \\frac{success}{n_{ep}}$ -- процент успешно завершенных эпизодов. Агент решает задачу поиска пути от начальной точки до точки цели $n_{ep}$ раз. $success$ -- сколько раз цель была достигнута.\n"
      ],
      "metadata": {
        "id": "lnIvIRkNnQ-g"
      }
    },
    {
      "cell_type": "code",
      "source": [
        "import gymnasium_robotics\n",
        "\n",
        "gym.register_envs(gymnasium_robotics)\n",
        "\n",
        "\n",
        "class PointMazeArrayObservationWrapper(gym.ObservationWrapper):\n",
        "    def __init__(self, env):\n",
        "        super().__init__(env)\n",
        "        # Формируется векторное наблюдение из словаря\n",
        "        self._obs_keys = [\"observation\", \"desired_goal\"]\n",
        "        new_obs_len = np.sum(\n",
        "            [self.observation_space[k].shape[0] for k in self._obs_keys]\n",
        "        )\n",
        "        self.observation_space = gym.spaces.Box(\n",
        "            low=-np.inf, high=np.inf, shape=(new_obs_len,), dtype=np.float32\n",
        "        )\n",
        "\n",
        "    def observation(self, obs):\n",
        "        array_obs = np.concatenate([obs[key].flatten() for key in self._obs_keys])\n",
        "        return array_obs\n"
      ],
      "metadata": {
        "id": "tTFnypd6nGqu"
      },
      "execution_count": null,
      "outputs": []
    },
    {
      "cell_type": "markdown",
      "source": [
        "Создание среды"
      ],
      "metadata": {
        "id": "6lp9LktIn04q"
      }
    },
    {
      "cell_type": "code",
      "source": [
        "# 'r' -- возможная начальная точка для агента, 'g' -- возможная целевая точка,\n",
        "# 'c' -- начальная или целевая точка\n",
        "TRAIN_MAP = [\n",
        "    [1, 1, 1, 1, 1],\n",
        "    [1, 0, \"r\", 0, 1],\n",
        "    [1, 1, 1, 0, 1],\n",
        "    [1, 0, \"g\", 0, 1],\n",
        "    [1, 1, 1, 1, 1],\n",
        "]\n",
        "\n",
        "pic_map = [\n",
        "    [1, 1, 1, 1, 1],\n",
        "    [1, 0, 0, 0, 1],\n",
        "    [1, 1, 1, 0, 1],\n",
        "    [1, 0, 0, 0, 1],\n",
        "    [1, 1, 1, 1, 1],\n",
        "]\n",
        "\n",
        "def make_env(seed):\n",
        "    def thunk():\n",
        "        env = gym.make(\n",
        "            \"PointMaze_UMaze-v3\",\n",
        "            max_episode_steps=200,\n",
        "            maze_map=TRAIN_MAP,\n",
        "            continuing_task=False,\n",
        "        )\n",
        "        env = PointMazeArrayObservationWrapper(env)\n",
        "        env = gym.wrappers.RecordEpisodeStatistics(env)\n",
        "        env.action_space.seed(seed)\n",
        "        return env\n",
        "    return thunk"
      ],
      "metadata": {
        "id": "hKAINeMunYnc"
      },
      "execution_count": null,
      "outputs": []
    },
    {
      "cell_type": "markdown",
      "source": [
        "Отрисовка траекторий"
      ],
      "metadata": {
        "id": "-M0gGrqIn5KG"
      }
    },
    {
      "cell_type": "code",
      "source": [
        "import matplotlib\n",
        "matplotlib.use(\"Agg\")\n",
        "import matplotlib.pyplot as plt\n",
        "import numpy as np\n",
        "import seaborn as sns\n",
        "\n",
        "def plot_walls(walls):\n",
        "    (height, width) = walls.shape\n",
        "    for i, j in zip(*np.where(walls)):\n",
        "        x = np.array([j, j + 1]) -width/2\n",
        "        y0 = np.array([i, i]) -height/2\n",
        "        y1 = np.array([i + 1, i + 1]) -height/2\n",
        "        plt.fill_between(x, y0, y1, color=\"grey\")\n",
        "    plt.xticks([])\n",
        "    plt.yticks([])\n",
        "\n",
        "def plot_all_trajectories( walls=None, trajectories_=None, traj_filepath='output.png'):\n",
        "    plt.clf()\n",
        "    if walls  is not None:\n",
        "        plot_walls(walls)\n",
        "    if trajectories_ is not None:\n",
        "        all_points = trajectories_\n",
        "        sns.kdeplot(x=all_points[:, 0], y=all_points[:, 1], cmap='viridis', fill=True, alpha=0.5)\n",
        "    plt.savefig(traj_filepath)\n",
        "\n",
        "def plot_start_and_end_points(points, traj_filepath=\"start_and_end.png\"):\n",
        "    plt.clf()\n",
        "    plt.scatter(\n",
        "        points[:, 0],\n",
        "        points[:, 1],\n",
        "        marker=\".\",\n",
        "        color=\"red\",\n",
        "        s=200,\n",
        "        label=\"start\",\n",
        "    )\n",
        "    plt.scatter(\n",
        "        points[:, 2],\n",
        "        points[:, 3],\n",
        "        marker=\".\",\n",
        "        color=\"green\",\n",
        "        s=200,\n",
        "        label=\"end\",\n",
        "    )\n",
        "    plt.savefig(traj_filepath)\n",
        "\n",
        "\n",
        "def plot_one_trajectory(obs_vec, goal=None, walls=None, traj_filepath='output.png'):\n",
        "    plt.clf()\n",
        "    if walls  is not None:\n",
        "        plot_walls(walls)\n",
        "\n",
        "    if (obs_vec is not None):\n",
        "        obs_vec = np.array(obs_vec)\n",
        "        plt.plot(obs_vec[:, 0], obs_vec[:, 1], \".\", alpha=0.3)\n",
        "        plt.scatter(\n",
        "            [obs_vec[0, 0]],\n",
        "            [obs_vec[0, 1]],\n",
        "            marker=\"+\",\n",
        "            color=\"red\",\n",
        "            s=200,\n",
        "            label=\"start\",\n",
        "        )\n",
        "        plt.scatter(\n",
        "            [obs_vec[-1, 0]],\n",
        "            [obs_vec[-1, 1]],\n",
        "            marker=\"+\",\n",
        "            color=\"green\",\n",
        "            s=200,\n",
        "            label=\"end\",\n",
        "        )\n",
        "        if (goal is not None):\n",
        "            plt.scatter(\n",
        "                goal[:,0], goal[:,1], marker=\"*\", color=\"green\", s=200, label=\"goal\"\n",
        "            )\n",
        "    plt.savefig(traj_filepath)\n"
      ],
      "metadata": {
        "id": "BklMMgBbnubV"
      },
      "execution_count": null,
      "outputs": []
    },
    {
      "cell_type": "markdown",
      "source": [
        "Тестирование агента"
      ],
      "metadata": {
        "id": "9WDn7ZgioFgQ"
      }
    },
    {
      "cell_type": "code",
      "source": [
        "@dataclass\n",
        "class EnvConfig:\n",
        "    num_eval_episodes: int = 10\n",
        "    eval_seed: int = 10\n",
        "\n",
        "class Evaluate:\n",
        "    def __init__(self, make_env, config):\n",
        "        self.num_episodes = config.num_eval_episodes\n",
        "        self.seed = config.eval_seed\n",
        "        self.env = make_env(self.seed)()\n",
        "        self.map_ = pic_map\n",
        "        self.map_ = np.array(self.map_)\n",
        "\n",
        "    def eval_actor(self, actor):\n",
        "        actor.eval()\n",
        "        success = []\n",
        "        for _ in range(self.num_episodes):\n",
        "            state, info = self.env.reset()\n",
        "            done, tr = False, False\n",
        "            while not (done or tr):\n",
        "                action = actor.get_action(state)\n",
        "                state, reward, done, tr, info = self.env.step(action)\n",
        "            if \"success\" in info:\n",
        "                success.append(info[\"success\"])\n",
        "            else:\n",
        "                success.append(info[\"episode\"][\"r\"])\n",
        "\n",
        "        actor.train()\n",
        "        return np.asarray(success).mean()\n",
        "\n",
        "    def eval_tr(self, actor, num_episodes=1, traj_filepath='output.png'):\n",
        "        actor.eval()\n",
        "        success = []\n",
        "        observations = []\n",
        "        for _ in range(num_episodes):\n",
        "            state, info = self.env.reset()\n",
        "            observations.append(state)\n",
        "            done, tr = False, False\n",
        "            while not (done or tr):\n",
        "                action = actor.get_action(state)\n",
        "                state, reward, done, tr, info = self.env.step(action)\n",
        "                observations.append(state)\n",
        "            if \"success\" in info:\n",
        "                success.append(info[\"success\"])\n",
        "            else:\n",
        "                success.append(info[\"episode\"][\"r\"])\n",
        "\n",
        "        actor.train()\n",
        "        print(f\"SR: {np.asarray(success).mean()}\")\n",
        "        plot_one_trajectory(observations, traj_filepath=traj_filepath, walls = self.map_)"
      ],
      "metadata": {
        "id": "nIRzza0ToIFz"
      },
      "execution_count": null,
      "outputs": []
    },
    {
      "cell_type": "markdown",
      "source": [
        "## Методы"
      ],
      "metadata": {
        "id": "VHEFioo3hXOv"
      }
    },
    {
      "cell_type": "markdown",
      "source": [
        "### Общее"
      ],
      "metadata": {
        "id": "8pHtTfZKhfQJ"
      }
    },
    {
      "cell_type": "code",
      "source": [
        "class ReplayBuffer:\n",
        "    def __init__(\n",
        "        self,\n",
        "        state_dim: int,\n",
        "        action_dim: int,\n",
        "        buffer_size: int,\n",
        "        device: str = \"cpu\",\n",
        "        config=None,\n",
        "    ):\n",
        "        self._buffer_size = buffer_size\n",
        "        self._pointer = 0\n",
        "        self._size = 0\n",
        "        self._config = config\n",
        "\n",
        "        self._states = torch.zeros(\n",
        "            (buffer_size, state_dim), dtype=torch.float32, device=device\n",
        "        )\n",
        "        self._actions = torch.zeros(\n",
        "            (buffer_size, action_dim), dtype=torch.float32, device=device\n",
        "        )\n",
        "        self._rewards = torch.zeros(\n",
        "            (buffer_size, 1), dtype=torch.float32, device=device\n",
        "        )\n",
        "        self._next_states = torch.zeros(\n",
        "            (buffer_size, state_dim), dtype=torch.float32, device=device\n",
        "        )\n",
        "        self._dones = torch.zeros((buffer_size, 1), dtype=torch.float32, device=device)\n",
        "        self._device = device\n",
        "\n",
        "    def _to_tensor(self, data: np.ndarray) -> torch.Tensor:\n",
        "        return torch.tensor(data, dtype=torch.float32, device=self._device)\n",
        "\n",
        "    def load_dataset_from_file(self, path: str, with_goal: bool):\n",
        "        data = dict()\n",
        "        with h5py.File(path, \"r\") as f:\n",
        "            for key in f.keys():\n",
        "                if key == \"infos\":\n",
        "                    for info_key in f[key].keys():\n",
        "                        data[info_key] = f.get(key)[info_key][:]\n",
        "                    continue\n",
        "                data[key] = f.get(key)[:]\n",
        "        return data\n",
        "\n",
        "    def load_dataset(self, data: Dict[str, np.ndarray]):\n",
        "        # Для offline методов: загрузка датасета\n",
        "        if self._size != 0:\n",
        "            raise ValueError(\"Trying to load data into non-empty replay buffer\")\n",
        "        n_transitions = data[\"observations\"].shape[0]\n",
        "        if n_transitions > self._buffer_size:\n",
        "            raise ValueError(\n",
        "                \"Replay buffer is smaller than the dataset you are trying to load!\"\n",
        "            )\n",
        "        self._states[:n_transitions] = self._to_tensor(data[\"observations\"])\n",
        "        self._actions[:n_transitions] = self._to_tensor(data[\"actions\"])\n",
        "        self._rewards[:n_transitions] = self._to_tensor(data[\"rewards\"][..., None])\n",
        "        self._next_states[:n_transitions] = self._to_tensor(data[\"next_observations\"])\n",
        "        self._dones[:n_transitions] = self._to_tensor(data[\"terminals\"][..., None])\n",
        "        self._size += n_transitions\n",
        "        self._pointer = min(self._size, n_transitions)\n",
        "\n",
        "        print(f\"Dataset size: {n_transitions}\")\n",
        "\n",
        "    def sample(self, batch_size: int) -> TensorBatch:\n",
        "        indices = np.random.randint(0, self._size, size=batch_size)\n",
        "        states = self._states[indices]\n",
        "        actions = self._actions[indices]\n",
        "        rewards = self._rewards[indices]\n",
        "        next_states = self._next_states[indices]\n",
        "        dones = self._dones[indices]\n",
        "        return [states, actions, rewards, next_states, dones]\n",
        "\n",
        "    def add_transition(\n",
        "        self,\n",
        "        state: np.ndarray,\n",
        "        action: np.ndarray,\n",
        "        reward: float,\n",
        "        next_state: np.ndarray,\n",
        "        done: bool,\n",
        "    ):\n",
        "        # Для off-policy методов: добавление данных при взаимодействии агента со средой\n",
        "        self._states[self._pointer] = self._to_tensor(state)\n",
        "        self._actions[self._pointer] = self._to_tensor(action)\n",
        "        self._rewards[self._pointer] = self._to_tensor(reward)\n",
        "        self._next_states[self._pointer] = self._to_tensor(next_state)\n",
        "        self._dones[self._pointer] = self._to_tensor(done)\n",
        "\n",
        "        self._pointer = (self._pointer + 1) % self._buffer_size\n",
        "        self._size = min(self._size + 1, self._buffer_size)\n"
      ],
      "metadata": {
        "id": "31JfYGrFrgTP"
      },
      "execution_count": null,
      "outputs": []
    },
    {
      "cell_type": "code",
      "source": [
        "class Logger:\n",
        "    def __init__(self, args):\n",
        "        run_name = f\"{args.env_id}__{args.exp_name}__{args.seed}__{int(time.time())}\"\n",
        "        if args.track:\n",
        "            import wandb\n",
        "\n",
        "            self.run = wandb.init(\n",
        "                project=args.wandb_project_name,\n",
        "                entity=args.wandb_entity,\n",
        "                sync_tensorboard=True,\n",
        "                config=vars(args),\n",
        "                name=run_name,\n",
        "                monitor_gym=True,\n",
        "                save_code=True,\n",
        "            )\n",
        "        else:\n",
        "            self.run = None\n",
        "        self.writer = SummaryWriter(f\"runs/{run_name}\")\n",
        "        self.writer.add_text(\n",
        "            \"hyperparameters\",\n",
        "            \"|param|value|\\n|-|-|\\n%s\"\n",
        "            % (\"\\n\".join([f\"|{key}|{value}|\" for key, value in vars(args).items()])),\n",
        "        )\n",
        "\n",
        "    def init_time(self):\n",
        "        self.start_time = time.time()\n",
        "\n",
        "    def log_metric(self, metric_dict: dict, global_step: int):\n",
        "        for key, item in metric_dict.items():\n",
        "            self.writer.add_scalar(key, item, global_step)\n",
        "\n",
        "    def time_step(self, global_step):\n",
        "        if global_step % 100 == 0:\n",
        "            print(\"SPS:\", int(global_step / (time.time() - self.start_time)))\n",
        "            self.log_metric(\n",
        "                {\"charts/SPS\": int(global_step / (time.time() - self.start_time))},\n",
        "                global_step,\n",
        "            )\n",
        "\n",
        "    def close(self):\n",
        "        self.writer.close()\n",
        "        if self.run:\n",
        "            self.run.finish()\n"
      ],
      "metadata": {
        "id": "6bUVT5LErnH2"
      },
      "execution_count": null,
      "outputs": []
    },
    {
      "cell_type": "code",
      "source": [
        "def train_offpolicy(env, agent, rb, config, logger, eval_):\n",
        "    if config.checkpoints_path is not None:\n",
        "        print(f\"Checkpoints path: {config.checkpoints_path}\")\n",
        "        os.makedirs(config.checkpoints_path, exist_ok=True)\n",
        "\n",
        "    # start train\n",
        "    obs, _ = env.reset(seed=config.seed)\n",
        "    for global_step in range(config.total_timesteps):\n",
        "        # выбор действий\n",
        "        if global_step < config.learning_starts:\n",
        "            actions = np.array(env.action_space.sample())\n",
        "        else:\n",
        "            actions = agent.get_action(obs)\n",
        "\n",
        "        # выполнение действия в среде\n",
        "        next_obs, rewards, terminations, truncations, infos = env.step(actions)\n",
        "\n",
        "        # логирование информации\n",
        "        if terminations or truncations:\n",
        "            if (infos is not None) and (\"episode\" in infos):\n",
        "                print(\n",
        "                    f\"global_step={global_step}, episodic_return={infos['episode']['r']}\"\n",
        "                )\n",
        "                metrics = {\n",
        "                    \"charts/episodic_return\": infos[\"episode\"][\"r\"],\n",
        "                    \"charts/episodic_length\": infos[\"episode\"][\"l\"],\n",
        "                }\n",
        "                if \"success\" in infos:\n",
        "                    metrics[\"charts/success\"] = infos[\"success\"]\n",
        "                logger.log_metric(metrics, global_step)\n",
        "\n",
        "        # сохранение данных в ReplayBuffer\n",
        "        real_next_obs = next_obs.copy()\n",
        "        rb.add_transition(obs, actions, rewards, real_next_obs, terminations)\n",
        "\n",
        "        if terminations or truncations:\n",
        "            next_obs, _ = env.reset()\n",
        "        obs = next_obs\n",
        "\n",
        "        # обучение\n",
        "        if global_step > config.learning_starts:\n",
        "            data = rb.sample(config.batch_size)\n",
        "            metrics = agent.update(data, global_step)\n",
        "\n",
        "            # логгирование\n",
        "            if global_step % config.eval_freq == 0:\n",
        "                SR = eval_.eval_actor(agent)\n",
        "                metrics[\"SR\"] = SR\n",
        "                logger.log_metric(metrics, global_step)\n",
        "                logger.time_step(global_step)\n",
        "                print(f\"Step {global_step}: SR = {SR}\")\n",
        "                if config.checkpoints_path:\n",
        "                    torch.save(\n",
        "                        agent.state_dict(),\n",
        "                        os.path.join(\n",
        "                            config.checkpoints_path, f\"checkpoint_{global_step}.pt\"\n",
        "                        ),\n",
        "                    )\n",
        "\n",
        "\n",
        "def train_offline(env, agent, rb, config, logger, eval_):\n",
        "    if config.checkpoints_path is not None:\n",
        "        print(f\"Checkpoints path: {config.checkpoints_path}\")\n",
        "        os.makedirs(config.checkpoints_path, exist_ok=True)\n",
        "    # данные загружаются в ReplayBuffer\n",
        "    dataset = rb.load_dataset_from_file(path=config.data_path, with_goal=False)\n",
        "    rb.load_dataset(dataset)\n",
        "\n",
        "    # start train\n",
        "    obs, _ = env.reset(seed=config.seed)\n",
        "    for global_step in range(config.total_timesteps):\n",
        "        # обучение\n",
        "        data = rb.sample(config.batch_size)\n",
        "        metrics = agent.update(data, global_step)\n",
        "\n",
        "        # логгирование\n",
        "        if global_step % config.eval_freq == 0:\n",
        "            SR = eval_.eval_actor(agent)\n",
        "            metrics[\"SR\"] = SR\n",
        "            logger.log_metric(metrics, global_step)\n",
        "            logger.time_step(global_step)\n",
        "            print(f\"Step {global_step}: SR = {SR}\")\n",
        "            if config.checkpoints_path:\n",
        "                torch.save(\n",
        "                    agent.state_dict(),\n",
        "                    os.path.join(\n",
        "                        config.checkpoints_path, f\"checkpoint_{global_step}.pt\"\n",
        "                    ),\n",
        "                )\n",
        "\n",
        "\n",
        "def train(config, Agent, ReplayBuffer, train_func, make_env):\n",
        "    logger = Logger(config)\n",
        "\n",
        "    # seeding\n",
        "    random.seed(config.seed)\n",
        "    np.random.seed(config.seed)\n",
        "    torch.manual_seed(config.seed)\n",
        "    torch.backends.cudnn.deterministic = config.torch_deterministic\n",
        "\n",
        "    device = torch.device(\n",
        "        \"cuda\" if torch.cuda.is_available() and config.cuda else \"cpu\"\n",
        "    )\n",
        "\n",
        "    # среда\n",
        "    env = make_env(config.seed)()\n",
        "    eval_ = Evaluate(make_env, config)\n",
        "\n",
        "    observation_space_shape = env.observation_space.shape\n",
        "    action_space = env.action_space\n",
        "    env.observation_space.dtype = np.float32\n",
        "\n",
        "    # агент\n",
        "    agent = Agent(config, device, observation_space_shape, action_space)\n",
        "\n",
        "    rb = ReplayBuffer(\n",
        "        buffer_size=config.buffer_size,\n",
        "        state_dim=env.observation_space.shape[0],\n",
        "        action_dim=env.action_space.shape[0],\n",
        "        device=device,\n",
        "        config=config,\n",
        "    )\n",
        "\n",
        "    logger.init_time()\n",
        "\n",
        "    # обучение\n",
        "    train_func(env, agent, rb, config, logger, eval_)\n",
        "\n",
        "    env.close()\n",
        "    logger.close()\n",
        "    return agent"
      ],
      "metadata": {
        "id": "ZQz2NzrqrsYa"
      },
      "execution_count": null,
      "outputs": []
    },
    {
      "cell_type": "code",
      "source": [
        "\n",
        "LOG_STD_MAX = 2\n",
        "LOG_STD_MIN = -5\n",
        "\n",
        "\n",
        "class Actor(nn.Module):\n",
        "    def __init__(self, observation_space_shape, action_space):\n",
        "        super().__init__()\n",
        "        self.fc1 = nn.Linear(np.array(observation_space_shape).prod(), 256)\n",
        "        self.fc2 = nn.Linear(256, 256)\n",
        "        self.fc_mean = nn.Linear(256, np.prod(action_space.shape))\n",
        "        self.fc_logstd = nn.Linear(256, np.prod(action_space.shape))\n",
        "        # action rescaling\n",
        "        self.register_buffer(\n",
        "            \"action_scale\",\n",
        "            torch.tensor(\n",
        "                (action_space.high - action_space.low) / 2.0,\n",
        "                dtype=torch.float32,\n",
        "            ),\n",
        "        )\n",
        "        self.register_buffer(\n",
        "            \"action_bias\",\n",
        "            torch.tensor(\n",
        "                (action_space.high + action_space.low) / 2.0,\n",
        "                dtype=torch.float32,\n",
        "            ),\n",
        "        )\n",
        "\n",
        "    def forward(self, x):\n",
        "        x = F.relu(self.fc1(x))\n",
        "        x = F.relu(self.fc2(x))\n",
        "        mean = self.fc_mean(x)\n",
        "        log_std = self.fc_logstd(x)\n",
        "        log_std = torch.tanh(log_std)\n",
        "        log_std = LOG_STD_MIN + 0.5 * (LOG_STD_MAX - LOG_STD_MIN) * (\n",
        "            log_std + 1\n",
        "        )  # From SpinUp / Denis Yarats\n",
        "\n",
        "        return mean, log_std\n",
        "\n",
        "    def get_action(self, x):\n",
        "        mean, log_std = self(x)\n",
        "        std = log_std.exp()\n",
        "        normal = torch.distributions.Normal(mean, std)\n",
        "        x_t = normal.rsample()  # for reparameterization trick (mean + std * N(0,1))\n",
        "        y_t = torch.tanh(x_t)\n",
        "        action = y_t * self.action_scale + self.action_bias\n",
        "        log_prob = normal.log_prob(x_t)\n",
        "        # Enforcing Action Bound\n",
        "        log_prob -= torch.log(self.action_scale * (1 - y_t.pow(2)) + 1e-6)\n",
        "        log_prob = log_prob.sum()\n",
        "        mean = torch.tanh(mean) * self.action_scale + self.action_bias\n",
        "        return action, log_prob, mean\n",
        "\n",
        "class SoftQNetwork(nn.Module):\n",
        "    def __init__(self, observation_space_shape, action_space):\n",
        "        super().__init__()\n",
        "        self.fc1 = nn.Linear(\n",
        "            np.array(observation_space_shape).prod() + np.prod(action_space.shape),\n",
        "            256,\n",
        "        )\n",
        "        self.fc2 = nn.Linear(256, 256)\n",
        "        self.fc3 = nn.Linear(256, 1)\n",
        "\n",
        "    def forward(self, x, a):\n",
        "        x = torch.cat([x, a], -1)\n",
        "        x = F.relu(self.fc1(x))\n",
        "        x = F.relu(self.fc2(x))\n",
        "        x = self.fc3(x)\n",
        "        return x\n",
        "\n",
        "EXP_ADV_MAX = 100.0\n",
        "\n",
        "\n",
        "class Squeeze(nn.Module):\n",
        "    def __init__(self, dim=-1):\n",
        "        super().__init__()\n",
        "        self.dim = dim\n",
        "\n",
        "    def forward(self, x: torch.Tensor) -> torch.Tensor:\n",
        "        return x.squeeze(dim=self.dim)\n",
        "\n",
        "\n",
        "class MLP(nn.Module):\n",
        "    def __init__(\n",
        "        self,\n",
        "        dims,\n",
        "        activation_fn: Callable[[], nn.Module] = nn.ReLU,\n",
        "        output_activation_fn: Callable[[], nn.Module] = None,\n",
        "        squeeze_output: bool = False,\n",
        "        dropout: Optional[float] = None,\n",
        "    ):\n",
        "        super().__init__()\n",
        "        n_dims = len(dims)\n",
        "        if n_dims < 2:\n",
        "            raise ValueError(\"MLP requires at least two dims (input and output)\")\n",
        "\n",
        "        layers = []\n",
        "        for i in range(n_dims - 2):\n",
        "            layers.append(nn.Linear(dims[i], dims[i + 1]))\n",
        "            layers.append(activation_fn())\n",
        "\n",
        "            if dropout is not None:\n",
        "                layers.append(nn.Dropout(dropout))\n",
        "\n",
        "        layers.append(nn.Linear(dims[-2], dims[-1]))\n",
        "        if output_activation_fn is not None:\n",
        "            layers.append(output_activation_fn())\n",
        "        if squeeze_output:\n",
        "            if dims[-1] != 1:\n",
        "                raise ValueError(\"Last dim must be 1 when squeezing\")\n",
        "            layers.append(Squeeze(-1))\n",
        "        self.net = nn.Sequential(*layers)\n",
        "\n",
        "    def forward(self, x: torch.Tensor) -> torch.Tensor:\n",
        "        return self.net(x)\n",
        "\n",
        "\n",
        "class ValueFunction(nn.Module):\n",
        "    def __init__(self, state_dim: int, hidden_dim: int = 256, n_hidden: int = 2):\n",
        "        super().__init__()\n",
        "        dims = [state_dim, *([hidden_dim] * n_hidden), 1]\n",
        "        self.v = MLP(dims, squeeze_output=True)\n",
        "\n",
        "    def forward(self, state: torch.Tensor) -> torch.Tensor:\n",
        "        return self.v(state)"
      ],
      "metadata": {
        "id": "hPKDK4wKsUAz"
      },
      "execution_count": null,
      "outputs": []
    },
    {
      "cell_type": "code",
      "source": [
        "# Общая конфигурация для экспериментов\n",
        "@dataclass\n",
        "class ConfigExp:\n",
        "    exp_name: str = \"offline_rl\"\n",
        "    \"\"\"the name of this experiment\"\"\"\n",
        "    seed: int = 1\n",
        "    \"\"\"seed of the experiment\"\"\"\n",
        "    torch_deterministic: bool = True\n",
        "    \"\"\"if toggled, `torch.backends.cudnn.deterministic=False`\"\"\"\n",
        "    cuda: bool = True\n",
        "    \"\"\"if toggled, cuda will be enabled by default\"\"\"\n",
        "    track: bool = True\n",
        "    \"\"\"if toggled, this experiment will be tracked with Weights and Biases\"\"\"\n",
        "    wandb_project_name: str = \"offline-rl-hw\"\n",
        "    \"\"\"the wandb's project name\"\"\"\n",
        "    wandb_entity: str = None\n",
        "    \"\"\"the entity (team) of wandb's project\"\"\"\n",
        "    capture_video: bool = False\n",
        "    \"\"\"whether to capture videos of the agent performances (check out `videos` folder)\"\"\"\n",
        "\n",
        "    env_id: str = \"PointMaze_UMaze-v3\"\n",
        "    \"\"\"the environment id of the task\"\"\"\n",
        "    total_timesteps: int = 300000\n",
        "    \"\"\"total timesteps of the experiments\"\"\"\n",
        "    num_envs: int = 1\n",
        "    \"\"\"the number of parallel game environments\"\"\"\n",
        "    buffer_size: int = int(1e6)\n",
        "    \"\"\"the replay memory buffer size\"\"\"\n",
        "\n",
        "    eval_freq: int = int(5e3)\n",
        "    checkpoints_path: str = \"model\"\n",
        "    eval_seed: int = 1024\n",
        "    num_eval_episodes: int = 10"
      ],
      "metadata": {
        "id": "-rmj5nPArxPM"
      },
      "execution_count": null,
      "outputs": []
    },
    {
      "cell_type": "markdown",
      "source": [
        "### Behavioral Cloning"
      ],
      "metadata": {
        "id": "330LSqoAh7BK"
      }
    },
    {
      "cell_type": "code",
      "source": [
        "@dataclass\n",
        "class ConfigBC(ConfigExp):\n",
        "    batch_size: int = 1024\n",
        "    policy_lr: float = 3e-4\n",
        "    data_path: str = \"/content/data_umaze_dense.hdf5\""
      ],
      "metadata": {
        "id": "5UQHcI0Ysikx"
      },
      "execution_count": null,
      "outputs": []
    },
    {
      "cell_type": "code",
      "source": [
        "# data =\n",
        "        #           obs: torch.Tensor,\n",
        "        #           action: torch.Tensor,\n",
        "        #           reward: torch.Tensor,\n",
        "        #           next_obs: torch.Tensor,\n",
        "        #           done: torch.Tensor,\n",
        "\n",
        "class BCAgent(nn.Module):\n",
        "    def __init__(self, cfg: ConfigBC, device, observation_space_shape, action_space):\n",
        "        super().__init__()\n",
        "        self.cfg = cfg\n",
        "        self.device = device\n",
        "        self.init_actor(observation_space_shape, action_space)\n",
        "\n",
        "    def init_actor(self, observation_space_shape, action_space):\n",
        "        self.actor = Actor(observation_space_shape, action_space).to(self.device)\n",
        "        self.actor_optimizer = optim.Adam(\n",
        "            list(self.actor.parameters()), lr=self.cfg.policy_lr\n",
        "        )\n",
        "\n",
        "    def update(\n",
        "        self,\n",
        "        data,\n",
        "        global_step,\n",
        "    ) -> dict:\n",
        "        # update actor\n",
        "        observations = data[0]\n",
        "        action = data[1]\n",
        "\n",
        "        pi, log_pi, _ = self.actor.get_action(observations)\n",
        "\n",
        "        # actor_loss = ...\n",
        "        ####### Код с семинара ########\n",
        "        actor_loss = F.mse_loss(pi, action)\n",
        "        ##############################\n",
        "\n",
        "        self.actor_optimizer.zero_grad()\n",
        "        actor_loss.backward()\n",
        "        self.actor_optimizer.step()\n",
        "\n",
        "        actor_metrics = {\"losses/actor_loss\": actor_loss.item()}\n",
        "        return actor_metrics\n",
        "\n",
        "    def get_action(self, observation: np.ndarray, epsilon: float = 0.0) -> int:\n",
        "        actions, _, _ = self.actor.get_action(torch.Tensor(observation).to(self.device))\n",
        "        actions = actions.detach().cpu().numpy()\n",
        "        return actions\n",
        "\n",
        "    def state_dict(self) -> Dict[str, Any]:\n",
        "        return {\n",
        "            \"actor\": self.actor.state_dict(),\n",
        "            \"actor_optim\": self.actor_optimizer.state_dict(),\n",
        "        }\n",
        "\n",
        "    def load_state_dict(self, state_dict: Dict[str, Any]):\n",
        "        self.actor.load_state_dict(state_dict=state_dict[\"actor\"])\n",
        "        self.actor_optimizer.load_state_dict(state_dict=state_dict[\"actor_optim\"])\n"
      ],
      "metadata": {
        "id": "Q5ufKXzWsjW7"
      },
      "execution_count": null,
      "outputs": []
    },
    {
      "cell_type": "markdown",
      "source": [
        "### SAC"
      ],
      "metadata": {
        "id": "orFDQCVch9Hn"
      }
    },
    {
      "cell_type": "code",
      "source": [
        "@dataclass\n",
        "class ConfigSAC(ConfigExp):\n",
        "    gamma: float = 0.99\n",
        "    \"\"\"the discount factor gamma\"\"\"\n",
        "    tau: float = 0.005\n",
        "    \"\"\"target smoothing coefficient (default: 0.005)\"\"\"\n",
        "    batch_size: int = 1024\n",
        "    \"\"\"the batch size of sample from the reply memory\"\"\"\n",
        "    learning_starts: int = 5e3\n",
        "    \"\"\"timestep to start learning\"\"\"\n",
        "    policy_lr: float = 3e-4\n",
        "    \"\"\"the learning rate of the policy network optimizer\"\"\"\n",
        "    q_lr: float = 1e-3\n",
        "    \"\"\"the learning rate of the Q network network optimizer\"\"\"\n",
        "    policy_frequency: int = 2\n",
        "    \"\"\"the frequency of training policy (delayed)\"\"\"\n",
        "    target_network_frequency: int = 1  # Denis Yarats' implementation delays this by 2.\n",
        "    \"\"\"the frequency of updates for the target nerworks\"\"\"\n",
        "    alpha: float = 0.2\n",
        "    \"\"\"Entropy regularization coefficient.\"\"\"\n",
        "    autotune: bool = True\n",
        "    \"\"\"automatic tuning of the entropy coefficient\"\"\"\n",
        "\n",
        "    data_path: str = \"notebook/data_umaze_d.hdf5\""
      ],
      "metadata": {
        "id": "3A98YTOmsoWW"
      },
      "execution_count": null,
      "outputs": []
    },
    {
      "cell_type": "code",
      "source": [
        "class SACAgent(nn.Module):\n",
        "    def __init__(self, cfg: ConfigSAC, device, observation_space_shape, action_space):\n",
        "        super().__init__()\n",
        "        self.cfg = cfg\n",
        "        self.device = device\n",
        "        self.init_actor_critic(observation_space_shape, action_space)\n",
        "\n",
        "    def init_actor_critic(self, observation_space_shape, action_space):\n",
        "        self.actor = Actor(observation_space_shape, action_space).to(self.device)\n",
        "        self.qf1 = SoftQNetwork(observation_space_shape, action_space).to(self.device)\n",
        "        self.qf2 = SoftQNetwork(observation_space_shape, action_space).to(self.device)\n",
        "        self.qf1_target = SoftQNetwork(observation_space_shape, action_space).to(\n",
        "            self.device\n",
        "        )\n",
        "        self.qf2_target = SoftQNetwork(observation_space_shape, action_space).to(\n",
        "            self.device\n",
        "        )\n",
        "        self.qf1_target.load_state_dict(self.qf1.state_dict())\n",
        "        self.qf2_target.load_state_dict(self.qf2.state_dict())\n",
        "        self.q_optimizer = optim.Adam(\n",
        "            list(self.qf1.parameters()) + list(self.qf2.parameters()), lr=self.cfg.q_lr\n",
        "        )\n",
        "        self.actor_optimizer = optim.Adam(\n",
        "            list(self.actor.parameters()), lr=self.cfg.policy_lr\n",
        "        )\n",
        "\n",
        "        # Automatic entropy tuning\n",
        "        if self.cfg.autotune:\n",
        "            self.target_entropy = -torch.prod(\n",
        "                torch.Tensor(action_space.shape).to(self.device)\n",
        "            ).item()\n",
        "            self.log_alpha = torch.zeros(1, requires_grad=True, device=self.device)\n",
        "            self.alpha = self.log_alpha.exp().item()\n",
        "            self.a_optimizer = optim.Adam([self.log_alpha], lr=self.cfg.q_lr)\n",
        "        else:\n",
        "            self.alpha = self.cfg.alpha\n",
        "\n",
        "    def actor_loss(self, pi, log_pi, data):\n",
        "        observations = data[0]\n",
        "        # actor_loss = mean(- (Q' + a H))\n",
        "        ####### Здесь ваш код ########\n",
        "        qf1_pi = self.qf1(observations, pi)\n",
        "        qf2_pi = self.qf2(observations, pi)\n",
        "        min_qf_pi = torch.min(qf1_pi, qf2_pi)\n",
        "        actor_loss = ((self.alpha * log_pi) - min_qf_pi).mean()\n",
        "        ##############################\n",
        "        return actor_loss\n",
        "\n",
        "    def compute_critic_loss(\n",
        "        self,\n",
        "        data,\n",
        "    ) -> Tuple[torch.Tensor, dict, dict]:\n",
        "        observations, actions, rewards, next_observations, dones = data\n",
        "        rewards = rewards.flatten()\n",
        "        dones = dones.flatten()\n",
        "        with torch.no_grad():\n",
        "            next_state_actions, next_state_log_pi, _ = self.actor.get_action(\n",
        "                next_observations\n",
        "            )\n",
        "            # для s', a' вычислить Q(s', a') с помощью уравнения Беллмана\n",
        "            #         1) min_qf_next_target = Q' + a H\n",
        "            #         2) next_q_value = Q(s', a') = r + (1 - d) * gamma * min_qf_next_target\n",
        "            ####### Код с семинара ########\n",
        "            qf1_next_target = self.qf1_target(next_observations, next_state_actions)\n",
        "            qf2_next_target = self.qf2_target(next_observations, next_state_actions)\n",
        "            min_qf_next_target = (\n",
        "                torch.min(qf1_next_target, qf2_next_target)\n",
        "                - self.alpha * next_state_log_pi\n",
        "            )\n",
        "            next_q_value = rewards + (1 - dones) * self.cfg.gamma * (min_qf_next_target).view(-1)\n",
        "            ##############################\n",
        "\n",
        "        qf1_a_values = self.qf1(observations, actions).view(-1)\n",
        "        qf2_a_values = self.qf2(observations, actions).view(-1)\n",
        "        qf1_loss = F.mse_loss(qf1_a_values, next_q_value)\n",
        "        qf2_loss = F.mse_loss(qf2_a_values, next_q_value)\n",
        "        qf_loss = qf1_loss + qf2_loss\n",
        "        metrics = {\n",
        "            \"losses/qf1_values\": qf1_a_values.mean().item(),\n",
        "            \"losses/qf2_values\": qf2_a_values.mean().item(),\n",
        "            \"losses/qf1_loss\": qf1_loss.item(),\n",
        "            \"losses/qf2_loss\": qf2_loss.item(),\n",
        "            \"losses/qf_loss\": qf_loss.item() / 2.0,\n",
        "        }\n",
        "        return qf_loss, metrics\n",
        "\n",
        "    def update_critic(\n",
        "        self,\n",
        "        data,\n",
        "    ) -> dict:\n",
        "        qf_loss, metrics = self.compute_critic_loss(data)\n",
        "\n",
        "        # optimize the model\n",
        "        self.q_optimizer.zero_grad()\n",
        "        qf_loss.backward()\n",
        "        self.q_optimizer.step()\n",
        "\n",
        "        return metrics\n",
        "\n",
        "    def update_target_critic(self):\n",
        "        for param, target_param in zip(\n",
        "            self.qf1.parameters(), self.qf1_target.parameters()\n",
        "        ):\n",
        "            target_param.data.copy_(\n",
        "                self.cfg.tau * param.data + (1 - self.cfg.tau) * target_param.data\n",
        "            )\n",
        "        for param, target_param in zip(\n",
        "            self.qf2.parameters(), self.qf2_target.parameters()\n",
        "        ):\n",
        "            target_param.data.copy_(\n",
        "                self.cfg.tau * param.data + (1 - self.cfg.tau) * target_param.data\n",
        "            )\n",
        "\n",
        "    def update_alpha_loss(self, data):\n",
        "        observations = data[0]\n",
        "        metrics = dict()\n",
        "        if self.cfg.autotune:\n",
        "            with torch.no_grad():\n",
        "                _, log_pi, _ = self.actor.get_action(observations)\n",
        "            alpha_loss = (-self.log_alpha.exp() * (log_pi + self.target_entropy)).mean()\n",
        "\n",
        "            self.a_optimizer.zero_grad()\n",
        "            alpha_loss.backward()\n",
        "            self.a_optimizer.step()\n",
        "            self.alpha = self.log_alpha.exp().item()\n",
        "            metrics[\"losses/alpha_loss\"] = alpha_loss.item()\n",
        "        metrics[\"losses/alpha\"] = self.alpha\n",
        "        return metrics\n",
        "\n",
        "\n",
        "    def update_actor(self, data):\n",
        "        observations = data[0]\n",
        "\n",
        "        pi, log_pi, _ = self.actor.get_action(observations)\n",
        "\n",
        "        actor_loss = self.actor_loss(pi, log_pi, data)\n",
        "\n",
        "        self.actor_optimizer.zero_grad()\n",
        "        actor_loss.backward()\n",
        "        self.actor_optimizer.step()\n",
        "\n",
        "        metrics = {\"losses/actor_loss\": actor_loss.item()}\n",
        "        return metrics\n",
        "\n",
        "    def update(\n",
        "        self,\n",
        "        data,\n",
        "        global_step,\n",
        "    ) -> dict:\n",
        "        # update critic\n",
        "        metrics = self.update_critic(data)\n",
        "\n",
        "        # update actor\n",
        "        if global_step % self.cfg.policy_frequency == 0:\n",
        "            for _ in range(self.cfg.policy_frequency):\n",
        "                actor_metrics = self.update_actor(data)\n",
        "                alpha_metrics = self.update_alpha_loss(data)\n",
        "            metrics.update(actor_metrics)\n",
        "            metrics.update(alpha_metrics)\n",
        "\n",
        "        # update the target networks\n",
        "        if global_step % self.cfg.target_network_frequency == 0:\n",
        "            self.update_target_critic()\n",
        "        return metrics\n",
        "\n",
        "    def state_dict(self) -> Dict[str, Any]:\n",
        "        res =  {\n",
        "            \"actor\": self.actor.state_dict(),\n",
        "            \"qf1\": self.qf1.state_dict(),\n",
        "            \"qf2\": self.qf2.state_dict(),\n",
        "            \"qf1_target\": self.qf1_target.state_dict(),\n",
        "            \"qf2_target\": self.qf2_target.state_dict(),\n",
        "            \"q_optimizer\": self.q_optimizer.state_dict(),\n",
        "            \"actor_optim\": self.actor_optimizer.state_dict(),\n",
        "        }\n",
        "        if self.cfg.autotune:\n",
        "            res[\"sac_log_alpha\"] =  self.log_alpha\n",
        "            res[\"sac_log_alpha_optim\"] =  self.a_optimizer.state_dict()\n",
        "\n",
        "        return res\n",
        "\n",
        "    def load_state_dict(self, state_dict: Dict[str, Any]):\n",
        "        self.actor.load_state_dict(state_dict=state_dict[\"actor\"])\n",
        "        self.qf1.load_state_dict(state_dict=state_dict[\"qf1\"])\n",
        "        self.qf2.load_state_dict(state_dict=state_dict[\"qf2\"])\n",
        "        self.qf1_target.load_state_dict(state_dict=state_dict[\"qf1_target\"])\n",
        "        self.qf2_target.load_state_dict(state_dict=state_dict[\"qf2_target\"])\n",
        "\n",
        "        self.q_optimizer.load_state_dict(state_dict=state_dict[\"q_optimizer\"])\n",
        "        self.actor_optimizer.load_state_dict(state_dict=state_dict[\"actor_optim\"])\n",
        "\n",
        "        if self.cfg.autotune:\n",
        "            self.log_alpha = state_dict[\"sac_log_alpha\"]\n",
        "            self.a_optimizer.load_state_dict(state_dict=state_dict[\"sac_log_alpha_optim\"])\n",
        "\n",
        "    def get_action(self, observation: np.ndarray, epsilon: float = 0.0) -> int:\n",
        "        actions, _, _ = self.actor.get_action(torch.Tensor(observation).to(self.device))\n",
        "        actions = actions.detach().cpu().numpy()\n",
        "        return actions\n"
      ],
      "metadata": {
        "id": "pwE4E5ZDsts9"
      },
      "execution_count": null,
      "outputs": []
    },
    {
      "cell_type": "markdown",
      "source": [
        "# Задания для проверки методов"
      ],
      "metadata": {
        "id": "DM4opa8JMJIv"
      }
    },
    {
      "cell_type": "markdown",
      "source": [
        "## Задание 1 - простое\n",
        "Два датасета из семинара.\n",
        "\n",
        "Замечание. Для метода SQIL:\n",
        "- параметр `total_timestep = 400000`.\n",
        "- SR может быть долгое время равен `SR = 0`, а потом резко стать `SR = 1`."
      ],
      "metadata": {
        "id": "BPCYwEGrMbvd"
      }
    },
    {
      "cell_type": "code",
      "source": [
        "TRAIN_MAP = [\n",
        "    [1, 1, 1, 1, 1],\n",
        "    [1, 0, \"r\", 0, 1],\n",
        "    [1, 1, 1, 0, 1],\n",
        "    [1, 0, \"g\", 0, 1],\n",
        "    [1, 1, 1, 1, 1],\n",
        "]\n",
        "pic_map = [\n",
        "    [1, 1, 1, 1, 1],\n",
        "    [1, 0, 0, 0, 1],\n",
        "    [1, 1, 1, 0, 1],\n",
        "    [1, 0, 0, 0, 1],\n",
        "    [1, 1, 1, 1, 1],\n",
        "]\n",
        "total_timesteps = 1000\n",
        "data_path_1=\"/content/data_umaze_good.hdf5\"\n",
        "data_path_2=\"/content/data_umaze_bad.hdf5\"\n",
        "expert_path=\"/content/expert_Umaze.pt\""
      ],
      "metadata": {
        "id": "kvNXgh8a5Pmc"
      },
      "execution_count": null,
      "outputs": []
    },
    {
      "cell_type": "markdown",
      "source": [
        "## Задание 2\n",
        "Повернуть за угол\n"
      ],
      "metadata": {
        "id": "hoLM2L6EUgTx"
      }
    },
    {
      "cell_type": "code",
      "source": [
        "TRAIN_MAP = [\n",
        "    [1, 1, 1, 1, 1],\n",
        "    [1, \"r\", 0, 0, 1],\n",
        "    [1, 1, 1, 0, 1],\n",
        "    [1, 0, 0, \"g\", 1],\n",
        "    [1, 1, 1, 1, 1],\n",
        "]\n",
        "pic_map = [\n",
        "    [1, 1, 1, 1, 1],\n",
        "    [1, 0, 0, 0, 1],\n",
        "    [1, 1, 1, 0, 1],\n",
        "    [1, 0, 0, 0, 1],\n",
        "    [1, 1, 1, 1, 1],\n",
        "]\n",
        "total_timesteps = 400000\n",
        "data_path=\"/content/data_umaze_corner.hdf5\"\n",
        "expert_path=\"/content/expert_Umaze.pt\""
      ],
      "metadata": {
        "id": "6MVJ5urdQlvY"
      },
      "execution_count": null,
      "outputs": []
    },
    {
      "cell_type": "code",
      "source": [
        "TRAIN_MAP = [\n",
        "                [1, 1, 1, 1, 1, 1, 1],\n",
        "                [1, 0, 0, 0, 0, \"r\", 1],\n",
        "                [1, 0, 1, 0, 1, 1, 1],\n",
        "                [1, 1, 0, \"g\", 1, 1, 1],\n",
        "                [1, 1, 1, 1, 1, 1, 1],\n",
        "            ]\n",
        "pic_map = [\n",
        "                [1, 1, 1, 1, 1, 1, 1],\n",
        "                [1, 1, 0, 0, 1, 1, 1],\n",
        "                [1, 0, 1, 0, 1, 1, 1],\n",
        "                [1, 0, 0, 0, 0, 0, 1],\n",
        "                [1, 1, 1, 1, 1, 1, 1],\n",
        "            ]\n",
        "total_timesteps = 400000\n",
        "data_path=\"/content/data_corner.hdf5\"\n",
        "expert_path=\"/content/expert_medium.pt\""
      ],
      "metadata": {
        "id": "MsrwoJseNXEC"
      },
      "execution_count": null,
      "outputs": []
    },
    {
      "cell_type": "markdown",
      "source": [
        "## Задание 3\n",
        "Пройти по прямой."
      ],
      "metadata": {
        "id": "v65LamXlMr7c"
      }
    },
    {
      "cell_type": "code",
      "source": [
        "TRAIN_MAP = [\n",
        "                [1, 1, 1, 1, 1, 1, 1],\n",
        "                [1, \"r\", 0, 0, \"g\", 0, 1],\n",
        "                [1, 0, 1, 0, 1, 1, 1],\n",
        "                [1, 1, 0, 0, 1, 1, 1],\n",
        "                [1, 1, 1, 1, 1, 1, 1],\n",
        "            ]\n",
        "pic_map = [\n",
        "                [1, 1, 1, 1, 1, 1, 1],\n",
        "                [1, 1, 0, 0, 1, 1, 1],\n",
        "                [1, 0, 1, 0, 1, 1, 1],\n",
        "                [1, 0, 0, 0, 0, 0, 1],\n",
        "                [1, 1, 1, 1, 1, 1, 1],\n",
        "            ]\n",
        "total_timesteps = 400000\n",
        "data_path=\"/content/data_line.hdf5\"\n",
        "expert_path=\"/content/expert_medium.pt\""
      ],
      "metadata": {
        "id": "cgPbilaBVoCG"
      },
      "execution_count": null,
      "outputs": []
    },
    {
      "cell_type": "markdown",
      "source": [
        "### Пример запуска"
      ],
      "metadata": {
        "id": "a7-6V8F66-bA"
      }
    },
    {
      "cell_type": "markdown",
      "source": [
        "Данные"
      ],
      "metadata": {
        "id": "GKfD8RH_iFU4"
      }
    },
    {
      "cell_type": "code",
      "source": [
        "# Загрузка\n",
        "import numpy as np\n",
        "import h5py\n",
        "\n",
        "load_data = dict()\n",
        "with h5py.File(\"data_umaze_good.hdf5\", \"r\") as f:\n",
        "    for key in f.keys():\n",
        "        if key == \"infos\":\n",
        "            for info_key in f[key].keys():\n",
        "                load_data[info_key] = f.get(key)[info_key][:]\n",
        "            continue\n",
        "        load_data[key] = f.get(key)[:]"
      ],
      "metadata": {
        "id": "Sc5JT2pAiMXz"
      },
      "execution_count": null,
      "outputs": []
    },
    {
      "cell_type": "code",
      "source": [
        "for key, val in load_data.items():\n",
        "    print(f\"{key}: {val.shape} {val.dtype}\")"
      ],
      "metadata": {
        "colab": {
          "base_uri": "https://localhost:8080/"
        },
        "id": "GUw3vn8kiH7k",
        "outputId": "52224804-b589-4b4f-9c4c-0d101b80e327"
      },
      "execution_count": null,
      "outputs": [
        {
          "output_type": "stream",
          "name": "stdout",
          "text": [
            "actions: (500006, 2) float32\n",
            "next_observations: (500006, 6) float64\n",
            "observations: (500006, 6) float64\n",
            "rewards: (500006,) float64\n",
            "terminals: (500006,) bool\n"
          ]
        }
      ]
    },
    {
      "cell_type": "code",
      "source": [
        "pic_map = [\n",
        "    [1, 1, 1, 1, 1],\n",
        "    [1, 0, 0, 0, 1],\n",
        "    [1, 1, 1, 0, 1],\n",
        "    [1, 0, 0, 0, 1],\n",
        "    [1, 1, 1, 1, 1],\n",
        "]\n",
        "plot_one_trajectory(load_data[\"observations\"], traj_filepath=\"data.png\", walls=np.array(pic_map))\n",
        "Image(filename='data.png')"
      ],
      "metadata": {
        "colab": {
          "base_uri": "https://localhost:8080/",
          "height": 497
        },
        "id": "AyKMZxv2iSbM",
        "outputId": "c9d956fd-3aaa-4eb4-c8be-5399cb0aa485"
      },
      "execution_count": null,
      "outputs": [
        {
          "output_type": "execute_result",
          "data": {
            "image/png": "[encoded data removed]",
            "text/plain": [
              "<IPython.core.display.Image object>"
            ]
          },
          "metadata": {},
          "execution_count": 64
        }
      ]
    },
    {
      "cell_type": "markdown",
      "source": [
        "Обучение"
      ],
      "metadata": {
        "id": "eCdPebIw7Er2"
      }
    },
    {
      "cell_type": "code",
      "source": [
        "TRAIN_MAP = [\n",
        "    [1, 1, 1, 1, 1],\n",
        "    [1, 0, \"r\", 0, 1],\n",
        "    [1, 1, 1, 0, 1],\n",
        "    [1, 0, \"g\", 0, 1],\n",
        "    [1, 1, 1, 1, 1],\n",
        "]\n",
        "\n",
        "config = ConfigBC(data_path=\"/content/data_umaze_good.hdf5\",\n",
        "                  total_timesteps=1000, eval_freq= int(1e2))\n",
        "agent_BC = train(config, BCAgent, ReplayBuffer, train_offline, make_env)"
      ],
      "metadata": {
        "colab": {
          "base_uri": "https://localhost:8080/",
          "height": 1000
        },
        "id": "y9vutnok4lM-",
        "outputId": "90aabfde-4c83-4c76-eb67-b19bbe26491c"
      },
      "execution_count": null,
      "outputs": [
        {
          "output_type": "display_data",
          "data": {
            "text/plain": [
              "<IPython.core.display.HTML object>"
            ],
            "text/html": []
          },
          "metadata": {}
        },
        {
          "output_type": "display_data",
          "data": {
            "text/plain": [
              "<IPython.core.display.HTML object>"
            ],
            "text/html": [
              "<br>    <style><br>        .wandb-row {<br>            display: flex;<br>            flex-direction: row;<br>            flex-wrap: wrap;<br>            justify-content: flex-start;<br>            width: 100%;<br>        }<br>        .wandb-col {<br>            display: flex;<br>            flex-direction: column;<br>            flex-basis: 100%;<br>            flex: 1;<br>            padding: 10px;<br>        }<br>    </style><br><div class=\"wandb-row\"><div class=\"wandb-col\"><h3>Run history:</h3><br/><table class=\"wandb\"><tr><td>SR</td><td>▁▁▁▁██▁▁▅▁▅▅▁</td></tr><tr><td>charts/SPS</td><td>▁▆▇▇█████████</td></tr><tr><td>global_step</td><td>▁▁▁▂▂▂▂▂▂▃▃▃▃▃▃▄▄▄▅▅▅▅▅▅▆▆▆▆▆▆▇▇▇▇▇▇███</td></tr><tr><td>losses/actor_loss</td><td>█▂▂▁▁▁▁▂▁▁▂▂▁</td></tr></table><br/></div><div class=\"wandb-col\"><h3>Run summary:</h3><br/><table class=\"wandb\"><tr><td>SR</td><td>0</td></tr><tr><td>charts/SPS</td><td>162</td></tr><tr><td>global_step</td><td>12000</td></tr><tr><td>losses/actor_loss</td><td>0.21231</td></tr></table><br/></div></div>"
            ]
          },
          "metadata": {}
        },
        {
          "output_type": "display_data",
          "data": {
            "text/plain": [
              "<IPython.core.display.HTML object>"
            ],
            "text/html": [
              " View run <strong style=\"color:#cdcd00\">PointMaze_UMaze-v3__offline_rl__1__1744045146</strong> at: <a href='https://wandb.ai/nesterova/offline-rl-hw/runs/b3d0r5mc' target=\"_blank\">https://wandb.ai/nesterova/offline-rl-hw/runs/b3d0r5mc</a><br> View project at: <a href='https://wandb.ai/nesterova/offline-rl-hw' target=\"_blank\">https://wandb.ai/nesterova/offline-rl-hw</a><br>Synced 5 W&B file(s), 0 media file(s), 71 artifact file(s) and 1 other file(s)"
            ]
          },
          "metadata": {}
        },
        {
          "output_type": "display_data",
          "data": {
            "text/plain": [
              "<IPython.core.display.HTML object>"
            ],
            "text/html": [
              "Find logs at: <code>./wandb/run-20250407_165906-b3d0r5mc/logs</code>"
            ]
          },
          "metadata": {}
        },
        {
          "output_type": "display_data",
          "data": {
            "text/plain": [
              "<IPython.core.display.HTML object>"
            ],
            "text/html": [
              "Tracking run with wandb version 0.19.9"
            ]
          },
          "metadata": {}
        },
        {
          "output_type": "display_data",
          "data": {
            "text/plain": [
              "<IPython.core.display.HTML object>"
            ],
            "text/html": [
              "Run data is saved locally in <code>/content/wandb/run-20250407_170829-ejz2eggt</code>"
            ]
          },
          "metadata": {}
        },
        {
          "output_type": "display_data",
          "data": {
            "text/plain": [
              "<IPython.core.display.HTML object>"
            ],
            "text/html": [
              "Syncing run <strong><a href='https://wandb.ai/nesterova/offline-rl-hw/runs/ejz2eggt' target=\"_blank\">PointMaze_UMaze-v3__offline_rl__1__1744045709</a></strong> to <a href='https://wandb.ai/nesterova/offline-rl-hw' target=\"_blank\">Weights & Biases</a> (<a href='https://wandb.me/developer-guide' target=\"_blank\">docs</a>)<br>"
            ]
          },
          "metadata": {}
        },
        {
          "output_type": "display_data",
          "data": {
            "text/plain": [
              "<IPython.core.display.HTML object>"
            ],
            "text/html": [
              " View project at <a href='https://wandb.ai/nesterova/offline-rl-hw' target=\"_blank\">https://wandb.ai/nesterova/offline-rl-hw</a>"
            ]
          },
          "metadata": {}
        },
        {
          "output_type": "display_data",
          "data": {
            "text/plain": [
              "<IPython.core.display.HTML object>"
            ],
            "text/html": [
              " View run at <a href='https://wandb.ai/nesterova/offline-rl-hw/runs/ejz2eggt' target=\"_blank\">https://wandb.ai/nesterova/offline-rl-hw/runs/ejz2eggt</a>"
            ]
          },
          "metadata": {}
        },
        {
          "output_type": "stream",
          "name": "stderr",
          "text": [
            "\u001b[34m\u001b[1mwandb\u001b[0m: \u001b[33mWARNING\u001b[0m When using several event log directories, please call `wandb.tensorboard.patch(root_logdir=\"...\")` before `wandb.init`\n"
          ]
        },
        {
          "output_type": "stream",
          "name": "stdout",
          "text": [
            "Checkpoints path: model\n",
            "Dataset size: 500006\n",
            "SPS: 0\n",
            "Step 0: SR = 0.0\n",
            "SPS: 21\n",
            "Step 100: SR = 0.7\n",
            "SPS: 29\n",
            "Step 200: SR = 0.7\n",
            "SPS: 36\n",
            "Step 300: SR = 1.0\n",
            "SPS: 42\n",
            "Step 400: SR = 1.0\n",
            "SPS: 47\n",
            "Step 500: SR = 1.0\n",
            "SPS: 51\n",
            "Step 600: SR = 1.0\n",
            "SPS: 54\n",
            "Step 700: SR = 1.0\n",
            "SPS: 56\n",
            "Step 800: SR = 1.0\n",
            "SPS: 58\n",
            "Step 900: SR = 1.0\n"
          ]
        },
        {
          "output_type": "display_data",
          "data": {
            "text/plain": [
              "<IPython.core.display.HTML object>"
            ],
            "text/html": []
          },
          "metadata": {}
        },
        {
          "output_type": "display_data",
          "data": {
            "text/plain": [
              "<IPython.core.display.HTML object>"
            ],
            "text/html": [
              "<br>    <style><br>        .wandb-row {<br>            display: flex;<br>            flex-direction: row;<br>            flex-wrap: wrap;<br>            justify-content: flex-start;<br>            width: 100%;<br>        }<br>        .wandb-col {<br>            display: flex;<br>            flex-direction: column;<br>            flex-basis: 100%;<br>            flex: 1;<br>            padding: 10px;<br>        }<br>    </style><br><div class=\"wandb-row\"><div class=\"wandb-col\"><h3>Run history:</h3><br/><table class=\"wandb\"><tr><td>SR</td><td>▁▆▆███████</td></tr><tr><td>charts/SPS</td><td>▁▄▅▅▆▇▇███</td></tr><tr><td>global_step</td><td>▁▁▁▂▂▂▃▃▃▃▃▃▄▄▄▅▅▅▆▆▆▆▆▆▇▇▇███</td></tr><tr><td>losses/actor_loss</td><td>█▂▁▁▁▁▁▁▁▁</td></tr></table><br/></div><div class=\"wandb-col\"><h3>Run summary:</h3><br/><table class=\"wandb\"><tr><td>SR</td><td>1</td></tr><tr><td>charts/SPS</td><td>58</td></tr><tr><td>global_step</td><td>900</td></tr><tr><td>losses/actor_loss</td><td>0.05834</td></tr></table><br/></div></div>"
            ]
          },
          "metadata": {}
        },
        {
          "output_type": "display_data",
          "data": {
            "text/plain": [
              "<IPython.core.display.HTML object>"
            ],
            "text/html": [
              " View run <strong style=\"color:#cdcd00\">PointMaze_UMaze-v3__offline_rl__1__1744045709</strong> at: <a href='https://wandb.ai/nesterova/offline-rl-hw/runs/ejz2eggt' target=\"_blank\">https://wandb.ai/nesterova/offline-rl-hw/runs/ejz2eggt</a><br> View project at: <a href='https://wandb.ai/nesterova/offline-rl-hw' target=\"_blank\">https://wandb.ai/nesterova/offline-rl-hw</a><br>Synced 5 W&B file(s), 0 media file(s), 0 artifact file(s) and 1 other file(s)"
            ]
          },
          "metadata": {}
        },
        {
          "output_type": "display_data",
          "data": {
            "text/plain": [
              "<IPython.core.display.HTML object>"
            ],
            "text/html": [
              "Find logs at: <code>./wandb/run-20250407_170829-ejz2eggt/logs</code>"
            ]
          },
          "metadata": {}
        }
      ]
    },
    {
      "cell_type": "markdown",
      "source": [
        "Оценка"
      ],
      "metadata": {
        "id": "ZAzP_ijb7I66"
      }
    },
    {
      "cell_type": "code",
      "source": [
        "pic_map = [\n",
        "    [1, 1, 1, 1, 1],\n",
        "    [1, 0, 0, 0, 1],\n",
        "    [1, 1, 1, 0, 1],\n",
        "    [1, 0, 0, 0, 1],\n",
        "    [1, 1, 1, 1, 1],\n",
        "]\n",
        "\n",
        "eval = Evaluate(make_env, EnvConfig())\n",
        "eval.eval_tr(agent_BC)\n",
        "Image(filename='output.png')"
      ],
      "metadata": {
        "colab": {
          "base_uri": "https://localhost:8080/",
          "height": 514
        },
        "id": "JzVOsHWR7IK_",
        "outputId": "606ca80f-c554-42f3-df8c-22be5529ed6e"
      },
      "execution_count": null,
      "outputs": [
        {
          "output_type": "stream",
          "name": "stdout",
          "text": [
            "SR: 1.0\n"
          ]
        },
        {
          "output_type": "execute_result",
          "data": {
            "image/png": "[encoded data removed]",
            "text/plain": [
              "<IPython.core.display.Image object>"
            ]
          },
          "metadata": {},
          "execution_count": 87
        }
      ]
    },
    {
      "cell_type": "markdown",
      "source": [
        "Загрузка весов эксперта. Эксперт - это агент, обученный с помощью метода SAC для конкретной карты. Может построить путь для любых начальных и целевых точек."
      ],
      "metadata": {
        "id": "GSM0zjDi7MFA"
      }
    },
    {
      "cell_type": "code",
      "source": [
        "env = make_env(1)()\n",
        "observation_space_shape = env.observation_space.shape\n",
        "action_space = env.action_space\n",
        "device = torch.device(\n",
        "        \"cuda\" if torch.cuda.is_available() and config.cuda else \"cpu\"\n",
        "    )\n",
        "\n",
        "\n",
        "config_expert = ConfigSAC()\n",
        "expert_agent = SACAgent(config_expert, device, observation_space_shape, action_space)\n",
        "expert_agent.load_state_dict(torch.load(\"/content/expert_Umaze.pt\", map_location=device))"
      ],
      "metadata": {
        "id": "oPkEzx3Z7K2b"
      },
      "execution_count": null,
      "outputs": []
    },
    {
      "cell_type": "code",
      "source": [
        "eval.eval_tr(expert_agent)\n",
        "Image(filename='output.png')"
      ],
      "metadata": {
        "colab": {
          "base_uri": "https://localhost:8080/",
          "height": 514
        },
        "id": "aVPurbS_mro4",
        "outputId": "155004d8-8883-4e8a-8a26-df30a6531cc7"
      },
      "execution_count": null,
      "outputs": [
        {
          "output_type": "stream",
          "name": "stdout",
          "text": [
            "SR: 1.0\n"
          ]
        },
        {
          "output_type": "execute_result",
          "data": {
            "image/png": "[encoded data removed]",
            "text/plain": [
              "<IPython.core.display.Image object>"
            ]
          },
          "metadata": {},
          "execution_count": 92
        }
      ]
    }
  ]
}